{
  "nbformat": 4,
  "nbformat_minor": 0,
  "metadata": {
    "colab": {
      "name": "aula04colab.ipynb",
      "provenance": [],
      "authorship_tag": "ABX9TyOB+GfhbRJZoOc/aR9cpbmY",
      "include_colab_link": true
    },
    "kernelspec": {
      "name": "python3",
      "display_name": "Python 3"
    },
    "language_info": {
      "name": "python"
    }
  },
  "cells": [
    {
      "cell_type": "markdown",
      "metadata": {
        "id": "view-in-github",
        "colab_type": "text"
      },
      "source": [
        "<a href=\"https://colab.research.google.com/github/henrique-sk/Python-do-zero-ao-DS/blob/main/aula04colab.ipynb\" target=\"_parent\"><img src=\"https://colab.research.google.com/assets/colab-badge.svg\" alt=\"Open In Colab\"/></a>"
      ]
    },
    {
      "cell_type": "code",
      "execution_count": 1,
      "metadata": {
        "id": "ZWirotKUBQe7",
        "colab": {
          "base_uri": "https://localhost:8080/"
        },
        "outputId": "0651f4d9-d8e7-41a9-bf27-648b19a00756"
      },
      "outputs": [
        {
          "output_type": "stream",
          "name": "stdout",
          "text": [
            "teste\n"
          ]
        }
      ],
      "source": [
        "print('teste')"
      ]
    },
    {
      "cell_type": "code",
      "source": [
        ""
      ],
      "metadata": {
        "id": "W9nav6bSCK2a"
      },
      "execution_count": null,
      "outputs": []
    }
  ]
}